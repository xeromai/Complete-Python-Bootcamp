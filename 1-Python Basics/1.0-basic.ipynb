{
  "cells": [
    {
      "cell_type": "markdown",
      "metadata": {
        "id": "VHyZaihISl1K"
      },
      "source": [
        "### Syntax and Semantics in Python\n",
        "Video Outline:\n",
        "- Single line Comments and multiline comments\n",
        "- Definition of Syntax and Semantics\n",
        "- Basic Syntax Rules in Python\n",
        "- Understanding Semantics in Python\n",
        "- Common Syntax Errors and How to Avoid Them\n",
        "- Practical Code Examples"
      ]
    },
    {
      "cell_type": "markdown",
      "metadata": {
        "id": "MlyqM1ENSl1Q"
      },
      "source": [
        "Syntax refers to the set of rules that defines the combinations of symbols that are considered to be correctly structured programs in a language. In simpler terms, syntax is about the correct arrangement of words and symbols in a code.\n",
        "\n",
        "Semantics refers to the meaning or the interpretation of the symbols, characters, and commands in a language. It is about what the code is supposed to do when it runs."
      ]
    },
    {
      "cell_type": "code",
      "execution_count": null,
      "metadata": {
        "id": "FVmqqBSUSl1R"
      },
      "outputs": [],
      "source": [
        "## Basic Syntax Rules In Python\n",
        "## Case sensitivity- Python is case sensitive\n",
        "\n",
        "name=\"python \"\n",
        "Name=\"classes\"\n",
        "\n",
        "print(name)\n",
        "print(Name)\n"
      ]
    },
    {
      "cell_type": "code",
      "execution_count": null,
      "metadata": {
        "id": "3KnTR8c6TDPh"
      },
      "outputs": [],
      "source": [
        "## Basic Syntax Rules In Python\n",
        "## Case sensitivity- Python is case sensitive\n",
        "\n",
        "name=\"python lerning\"\n",
        "Name=\"\"\n",
        "\n",
        "print(name)\n",
        "print(Name)\n"
      ]
    },
    {
      "cell_type": "code",
      "execution_count": null,
      "metadata": {
        "id": "np1iHVIgTEwj"
      },
      "outputs": [],
      "source": [
        "## Basic Syntax Rules In Python\n",
        "## Case sensitivity- Python is case sensitive\n",
        "\n",
        "name=\"python lerning\"\n",
        "Name=\"\"\n",
        "\n",
        "print(name)\n",
        "print(Name)\n"
      ]
    },
    {
      "cell_type": "markdown",
      "metadata": {
        "id": "FdvCclr-Sl1T"
      },
      "source": [
        "### Indentation\n",
        "Indentation in Python is used to define the structure and hierarchy of the code. Unlike many other programming languages that use braces {} to delimit blocks of code, Python uses indentation to determine the grouping of statements. This means that all the statements within a block must be indented at the same level."
      ]
    },
    {
      "cell_type": "code",
      "execution_count": null,
      "metadata": {
        "id": "H5yZScDoSl1T"
      },
      "outputs": [],
      "source": [
        "## Indentation\n",
        "## Python uses indentation to define blocks of code. Consistent use of spaces (commonly 4) or a tab is required.\n",
        "\n",
        "age=32\n",
        "if age>30:\n",
        "\n",
        "    print(age)\n",
        "\n",
        "print(age)\n"
      ]
    },
    {
      "cell_type": "code",
      "execution_count": null,
      "metadata": {
        "id": "YJpaO6XQSl1U"
      },
      "outputs": [],
      "source": [
        "## This is a single line comment\n",
        "print(\"Hello World\")"
      ]
    },
    {
      "cell_type": "code",
      "execution_count": null,
      "metadata": {
        "id": "CLL0r9BJSl1U"
      },
      "outputs": [],
      "source": [
        "## Line Continuation\n",
        "##Use a backslash (\\) to continue a statement to the next line\n",
        "\n",
        "total=1+2+3+4+5+6+7+\\\n",
        "4+5+6\n",
        "\n",
        "print(total)\n"
      ]
    },
    {
      "cell_type": "code",
      "execution_count": null,
      "metadata": {
        "id": "iAbudLg6Sl1V"
      },
      "outputs": [],
      "source": [
        "## Multiple Statements on a single line\n",
        "x=5;y=10;z=x+y\n",
        "print(z)"
      ]
    },
    {
      "cell_type": "code",
      "execution_count": null,
      "metadata": {
        "id": "ysnCi2OFSl1V"
      },
      "outputs": [],
      "source": [
        "##Understand  Semnatics In Python\n",
        "# variable assignment\n",
        "age=32 ##age is an integer\n",
        "name=\"Krish\" ##name is a string"
      ]
    },
    {
      "cell_type": "code",
      "execution_count": null,
      "metadata": {
        "id": "uGL4v9ePSl1W"
      },
      "outputs": [],
      "source": [
        "\n",
        "\n",
        "type(age)"
      ]
    },
    {
      "cell_type": "code",
      "execution_count": null,
      "metadata": {
        "id": "I7jB_u0eSl1W"
      },
      "outputs": [],
      "source": [
        "type(name)"
      ]
    },
    {
      "cell_type": "code",
      "execution_count": null,
      "metadata": {
        "id": "zFf1i6GiSl1X"
      },
      "outputs": [],
      "source": [
        "## Type Inference\n",
        "variable=10\n",
        "print(type(variable))\n",
        "variable=\"Krish\"\n",
        "print(type(variable))"
      ]
    },
    {
      "cell_type": "code",
      "execution_count": null,
      "metadata": {
        "id": "28hRS0cMSl1X"
      },
      "outputs": [],
      "source": [
        "age=32\n",
        "if age>30:\n",
        "    print(age)"
      ]
    },
    {
      "cell_type": "code",
      "execution_count": null,
      "metadata": {
        "id": "B55qxfVMSl1X"
      },
      "outputs": [],
      "source": [
        "## Name Error\n",
        "a=b"
      ]
    },
    {
      "cell_type": "code",
      "execution_count": null,
      "metadata": {
        "id": "aUes8nDoSl1Y"
      },
      "outputs": [],
      "source": [
        "## Code exmaples of indentation\n",
        "if True:\n",
        "    print(\"Correct Indentation\")\n",
        "    if False:\n",
        "        print(\"This ont print\")\n",
        "    print(\"This will print\")\n",
        "print(\"Outside the if block\")"
      ]
    },
    {
      "cell_type": "markdown",
      "metadata": {
        "id": "kjvwfaXJSl1Y"
      },
      "source": [
        "### Conclusion:\n",
        "Understanding the syntax and semantics of Python is crucial for writing correct and meaningful programs. Syntax ensures the code is properly structured, while semantics ensures the code behaves as expected. Mastering these concepts will help in writing efficient and error-free Python code."
      ]
    },
    {
      "cell_type": "markdown",
      "metadata": {
        "id": "T4K6knvPSl1Y"
      },
      "source": []
    }
  ],
  "metadata": {
    "kernelspec": {
      "display_name": "Python 3",
      "language": "python",
      "name": "python3"
    },
    "language_info": {
      "codemirror_mode": {
        "name": "ipython",
        "version": 3
      },
      "file_extension": ".py",
      "mimetype": "text/x-python",
      "name": "python",
      "nbconvert_exporter": "python",
      "pygments_lexer": "ipython3",
      "version": "3.12.0"
    },
    "colab": {
      "provenance": []
    }
  },
  "nbformat": 4,
  "nbformat_minor": 0
}